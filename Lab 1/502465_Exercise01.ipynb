{
 "cells": [
  {
   "cell_type": "markdown",
   "id": "11f06206-b064-469b-aa75-75d97dd6760e",
   "metadata": {},
   "source": [
    "# Exercise 01\n",
    "### Hao-Tien Kuo (ID:502465)\n",
    "This should be completed individually.\n",
    "All functions should be in a single notebook, please use the function names suggested. Please commit your solution to your github branch in addition to submitting it through Canvas."
   ]
  },
  {
   "cell_type": "markdown",
   "id": "f8ef6399-0d80-4cdf-ac9b-abba3b366f35",
   "metadata": {},
   "source": [
    "## Section 1: General programming"
   ]
  },
  {
   "cell_type": "markdown",
   "id": "83bc4daa-67c6-4bba-b845-32901a8c2253",
   "metadata": {},
   "source": [
    "1. Write a function DateOffset that takes 2 parameters, a string d in the format YYYY-MM-DD and an integer n. The function should return the date that is n days before (if n is negative) or after (if n is positive) d. \n",
    "\n",
    "Hint: Use the python documentation on date and time functions and formatting"
   ]
  },
  {
   "cell_type": "code",
   "execution_count": 16,
   "id": "4a8298c5-e64c-4c99-8845-360d771f204c",
   "metadata": {},
   "outputs": [],
   "source": [
    "from datetime import datetime, timedelta\n",
    "\n",
    "def DateOffset(d, n):\n",
    "    d1 = datetime.strptime(d, \"%Y-%m-%d\")\n",
    "    d2 = d1 + timedelta(days=n)\n",
    "    return d2.strftime(\"%Y-%m-%d\")"
   ]
  },
  {
   "cell_type": "code",
   "execution_count": 18,
   "id": "d230378d-b801-4472-a102-b3169b9227ea",
   "metadata": {},
   "outputs": [
    {
     "name": "stdout",
     "output_type": "stream",
     "text": [
      "2023-01-01\n",
      "2022-08-31\n"
     ]
    }
   ],
   "source": [
    "print(DateOffset('2022-12-31',1))\n",
    "print(DateOffset('2022-09-01',-1))"
   ]
  },
  {
   "cell_type": "markdown",
   "id": "f90478a9-23f4-4ac2-ada1-95d1fd692755",
   "metadata": {},
   "source": [
    "2. Write a function Factorial, that takes a positive integer n and returns n factorial (n!) \n",
    "\n",
    "Hint: This was mentioned on one of the slides"
   ]
  },
  {
   "cell_type": "code",
   "execution_count": 19,
   "id": "1eea386b-c2c7-4d27-86ac-64aa598a12b4",
   "metadata": {},
   "outputs": [],
   "source": [
    "def Factorial(n):\n",
    "    if n>0:\n",
    "        f = 1\n",
    "        for i in range(1,n+1):\n",
    "            f = f*i\n",
    "        return f\n",
    "    else:\n",
    "        return \"undefined\""
   ]
  },
  {
   "cell_type": "code",
   "execution_count": 23,
   "id": "3139bcd1-230a-4652-9f2c-0308cae3d75f",
   "metadata": {},
   "outputs": [
    {
     "name": "stdout",
     "output_type": "stream",
     "text": [
      "6\n",
      "undefined\n"
     ]
    }
   ],
   "source": [
    "print(Factorial(3))\n",
    "print(Factorial(-1))"
   ]
  },
  {
   "cell_type": "markdown",
   "id": "ad229887-d536-46b9-b220-8220c350252a",
   "metadata": {},
   "source": [
    "3. Write a function LongestString, that takes a list of strings and returns a list with the longest strings. You can assume that the list will have 10 or fewer elements and the strings will be 10 or fewer characters.\n",
    "\n",
    "Hint: Use the python documentation on list functions"
   ]
  },
  {
   "cell_type": "code",
   "execution_count": 37,
   "id": "ed3b481a-c165-452f-8b52-bdab09ec7f92",
   "metadata": {},
   "outputs": [],
   "source": [
    "def LongestString(l):\n",
    "    maxlen = -1\n",
    "    for i in l:\n",
    "        if len(i)>maxlen:\n",
    "            maxlen = len(i)\n",
    "    return [j for j in l if len(j)==maxlen]"
   ]
  },
  {
   "cell_type": "code",
   "execution_count": 39,
   "id": "5a015c20-2d7e-4221-b6a2-097ebda4303d",
   "metadata": {},
   "outputs": [
    {
     "name": "stdout",
     "output_type": "stream",
     "text": [
      "['aba', 'vcd', 'aba']\n"
     ]
    }
   ],
   "source": [
    "print(LongestString([\"aba\", \"aa\", \"ad\", \"vcd\", \"aba\"]))"
   ]
  },
  {
   "cell_type": "markdown",
   "id": "ccbe1e56-7a26-42d2-b414-a53b233cbf6d",
   "metadata": {},
   "source": [
    "4. Write a function IsPalindrome, that takes a string and checks if it is a palindrome. The function should return a Boolean value of true or false. \n",
    "\n",
    "Hint: A string is an iterable object"
   ]
  },
  {
   "cell_type": "code",
   "execution_count": 62,
   "id": "0565ed96-12ee-42d2-aa1b-83add8641eaf",
   "metadata": {},
   "outputs": [],
   "source": [
    "def IsPalindrome(s):\n",
    "    for i in range(int(len(s)/2)):\n",
    "        if s[i]!=s[-1-i]:\n",
    "            return False\n",
    "    return True"
   ]
  },
  {
   "cell_type": "code",
   "execution_count": 63,
   "id": "0059bca2-863d-4895-a2d3-f66384492f65",
   "metadata": {},
   "outputs": [
    {
     "name": "stdout",
     "output_type": "stream",
     "text": [
      "True\n",
      "False\n"
     ]
    }
   ],
   "source": [
    "print(IsPalindrome(\"racecar\"))\n",
    "print(IsPalindrome(\"racecars\"))"
   ]
  },
  {
   "cell_type": "markdown",
   "id": "a3e96753-142e-4d6d-8fa6-67096bd39f56",
   "metadata": {},
   "source": [
    "5. Write a function MakeChange that takes 1 parameter, an integer c, between 1 and 99. Using US coins of denominations $ 0.01, $ 0.05, $ 0.10, $ 0.25, $ 0.50 determine the combination needed to make c cents using the fewest coins. Return a dictionary where the key is the coin type and the value is how many of that coin are needed. \n",
    "\n",
    "Hint: It’s ok to be Greedy"
   ]
  },
  {
   "cell_type": "code",
   "execution_count": 67,
   "id": "233cb114-e8d5-4f58-8865-8eaf3c051362",
   "metadata": {},
   "outputs": [],
   "source": [
    "def MakeChange(c):\n",
    "    fifty = c//50\n",
    "    c = c-50*fifty\n",
    "    twenty_five = c//25\n",
    "    c = c-25*twenty_five\n",
    "    ten = c//10\n",
    "    c = c-10*ten\n",
    "    five = c//5\n",
    "    c = c-5*five\n",
    "    one = c\n",
    "    return {\"$0.01\":one, \"$0.05\":five, \"$0.10\":ten, \"$0.25\":twenty_five, \"$0.50\":fifty}"
   ]
  },
  {
   "cell_type": "code",
   "execution_count": 74,
   "id": "0dd20f48-65ac-4714-85ae-a1b1708dcbbd",
   "metadata": {},
   "outputs": [
    {
     "name": "stdout",
     "output_type": "stream",
     "text": [
      "{'$0.01': 1, '$0.05': 0, '$0.10': 0, '$0.25': 1, '$0.50': 0}\n"
     ]
    }
   ],
   "source": [
    "print(MakeChange(26))"
   ]
  },
  {
   "cell_type": "code",
   "execution_count": null,
   "id": "d95cb8ac-9132-455a-b1e2-de829748af02",
   "metadata": {},
   "outputs": [],
   "source": []
  }
 ],
 "metadata": {
  "kernelspec": {
   "display_name": "Python 3",
   "language": "python",
   "name": "python3"
  },
  "language_info": {
   "codemirror_mode": {
    "name": "ipython",
    "version": 3
   },
   "file_extension": ".py",
   "mimetype": "text/x-python",
   "name": "python",
   "nbconvert_exporter": "python",
   "pygments_lexer": "ipython3",
   "version": "3.8.8"
  }
 },
 "nbformat": 4,
 "nbformat_minor": 5
}
