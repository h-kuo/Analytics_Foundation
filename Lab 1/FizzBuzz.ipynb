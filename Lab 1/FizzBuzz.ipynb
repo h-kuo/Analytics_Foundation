{
 "cells": [
  {
   "cell_type": "markdown",
   "id": "cc60bb49-d07d-4648-8247-e6d5303905a9",
   "metadata": {},
   "source": [
    "### FizzBuzz\n",
    "Iterate the integers 1 through 30 inclusive. Print numbers on their own line. However, if a number Is evenly divisible by 3, rather than the number, print Fizz. When the number is evenly divisible by 5, rather than the number print Buzz. Finally, if the number is evenly divisible by both 3 and 5, instead of the number, print FizzBuzz."
   ]
  },
  {
   "cell_type": "code",
   "execution_count": 8,
   "id": "7d2ef76c-7cd6-4324-979d-497bf285e523",
   "metadata": {},
   "outputs": [
    {
     "name": "stdout",
     "output_type": "stream",
     "text": [
      "1\n",
      "2\n",
      "Fizz\n",
      "4\n",
      "Buzz\n",
      "Fizz\n",
      "7\n",
      "8\n",
      "Fizz\n",
      "Buzz\n",
      "11\n",
      "Fizz\n",
      "13\n",
      "14\n",
      "FizzBuzz\n",
      "16\n",
      "17\n",
      "Fizz\n",
      "19\n",
      "Buzz\n",
      "Fizz\n",
      "22\n",
      "23\n",
      "Fizz\n",
      "Buzz\n",
      "26\n",
      "Fizz\n",
      "28\n",
      "29\n",
      "FizzBuzz\n"
     ]
    }
   ],
   "source": [
    "for i in range(1,31):\n",
    "    if i%3==0 and i%5==0:\n",
    "        print(\"FizzBuzz\")\n",
    "    elif i%3==0:\n",
    "        print(\"Fizz\")\n",
    "    elif i%5==0:\n",
    "        print(\"Buzz\")\n",
    "    else:\n",
    "        print(i)"
   ]
  },
  {
   "cell_type": "code",
   "execution_count": null,
   "id": "d1220d3a-eaa2-4eee-800f-03821f1de992",
   "metadata": {},
   "outputs": [],
   "source": []
  }
 ],
 "metadata": {
  "kernelspec": {
   "display_name": "Python 3",
   "language": "python",
   "name": "python3"
  },
  "language_info": {
   "codemirror_mode": {
    "name": "ipython",
    "version": 3
   },
   "file_extension": ".py",
   "mimetype": "text/x-python",
   "name": "python",
   "nbconvert_exporter": "python",
   "pygments_lexer": "ipython3",
   "version": "3.8.8"
  }
 },
 "nbformat": 4,
 "nbformat_minor": 5
}
