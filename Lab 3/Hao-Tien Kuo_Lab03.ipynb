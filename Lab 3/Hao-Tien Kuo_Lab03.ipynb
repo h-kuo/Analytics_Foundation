{
 "cells": [
  {
   "cell_type": "markdown",
   "id": "0503dec0-eb1c-4c03-8bde-7439b3507396",
   "metadata": {},
   "source": [
    "# Lab 03\n",
    "Hao-Tien Kuo"
   ]
  },
  {
   "cell_type": "markdown",
   "id": "c09a3716-e9d9-43c4-b2c0-2af6f925396b",
   "metadata": {},
   "source": [
    "## Section 1: Linear Algebra"
   ]
  },
  {
   "cell_type": "code",
   "execution_count": 3,
   "id": "3b483814-4581-473e-8616-4595639379fc",
   "metadata": {},
   "outputs": [],
   "source": [
    "import numpy as np\n",
    "import pandas as pd\n",
    "import altair as alt"
   ]
  },
  {
   "cell_type": "code",
   "execution_count": 8,
   "id": "c1fffaaa-b9b9-45b5-9784-36a0350d8f39",
   "metadata": {},
   "outputs": [
    {
     "name": "stdout",
     "output_type": "stream",
     "text": [
      "Matrix m1:\n",
      "[[ 1  3  5]\n",
      " [ 4 12  8]]\n",
      "\n",
      "Matrix m2:\n",
      "[[ 1  5  9]\n",
      " [ 3  4 15]]\n"
     ]
    }
   ],
   "source": [
    "m1 = np.array([[1,3,5],\n",
    "              [4,12,8]]) \n",
    "\n",
    "m2 = np.array([[1,5,9],\n",
    "              [3,4,15]]) \n",
    "\n",
    "print(f'Matrix m1:\\n{m1}\\n\\nMatrix m2:\\n{m2}')"
   ]
  },
  {
   "cell_type": "code",
   "execution_count": 11,
   "id": "967b8f1f-2018-4f86-817d-2746e2b0a438",
   "metadata": {},
   "outputs": [
    {
     "data": {
      "text/plain": [
       "array([[ 2,  8, 14],\n",
       "       [ 7, 16, 23]])"
      ]
     },
     "execution_count": 11,
     "metadata": {},
     "output_type": "execute_result"
    }
   ],
   "source": [
    "# 1. Add m1 to m2 \n",
    "\n",
    "m1+m2"
   ]
  },
  {
   "cell_type": "code",
   "execution_count": 14,
   "id": "7270af85-8710-422e-ac60-b50c5b38de7b",
   "metadata": {},
   "outputs": [
    {
     "data": {
      "text/plain": [
       "array([[ 0, -2, -4],\n",
       "       [ 1,  8, -7]])"
      ]
     },
     "execution_count": 14,
     "metadata": {},
     "output_type": "execute_result"
    }
   ],
   "source": [
    "# 2. Subtraction: m1 – m2\n",
    "\n",
    "m1-m2"
   ]
  },
  {
   "cell_type": "code",
   "execution_count": 18,
   "id": "292c63f5-8520-461b-af33-b888bc267888",
   "metadata": {},
   "outputs": [
    {
     "data": {
      "text/plain": [
       "array([[ 13,  21,  69],\n",
       "       [ 39,  63, 207],\n",
       "       [ 29,  57, 165]])"
      ]
     },
     "execution_count": 18,
     "metadata": {},
     "output_type": "execute_result"
    }
   ],
   "source": [
    "# 3. Matrix multiplication (you may have to transpose):\n",
    "\n",
    "np.dot(m1.T, m2)"
   ]
  },
  {
   "cell_type": "code",
   "execution_count": 23,
   "id": "12da9db6-b860-4ea0-9909-d2d31236a29d",
   "metadata": {},
   "outputs": [
    {
     "data": {
      "text/plain": [
       "array([[ 61, 136],\n",
       "       [ 90, 180]])"
      ]
     },
     "execution_count": 23,
     "metadata": {},
     "output_type": "execute_result"
    }
   ],
   "source": [
    "np.dot(m2, m1.T)\n",
    "\n",
    "# The two resultant matrices are not the same. \n",
    "# The first operation (3x2 @ 2x3) will result in a 3x3 matrix, while the second (2x3 * 3x2) will result in a 2x2."
   ]
  },
  {
   "cell_type": "code",
   "execution_count": 37,
   "id": "451c0886-3946-448b-9dbf-61f39450f0ef",
   "metadata": {},
   "outputs": [
    {
     "name": "stdout",
     "output_type": "stream",
     "text": [
      "Matrix m3:\n",
      "[[ 1  3  5]\n",
      " [ 4 12  8]\n",
      " [ 2  6  7]]\n"
     ]
    }
   ],
   "source": [
    "# 4. Inversion\n",
    "\n",
    "v1 = np.array([[2,6,7]])\n",
    "m3 = np.append(m1, v1, axis=0)\n",
    "\n",
    "print(f'Matrix m3:\\n{m3}')"
   ]
  },
  {
   "cell_type": "code",
   "execution_count": 39,
   "id": "a99fa980-412f-4748-b9e5-4f381d54314f",
   "metadata": {},
   "outputs": [
    {
     "ename": "LinAlgError",
     "evalue": "Singular matrix",
     "output_type": "error",
     "traceback": [
      "\u001b[0;31m---------------------------------------------------------------------------\u001b[0m",
      "\u001b[0;31mLinAlgError\u001b[0m                               Traceback (most recent call last)",
      "\u001b[0;32m<ipython-input-39-4c55f0b5b4f4>\u001b[0m in \u001b[0;36m<module>\u001b[0;34m\u001b[0m\n\u001b[0;32m----> 1\u001b[0;31m \u001b[0mm3_i\u001b[0m \u001b[0;34m=\u001b[0m \u001b[0mnp\u001b[0m\u001b[0;34m.\u001b[0m\u001b[0mlinalg\u001b[0m\u001b[0;34m.\u001b[0m\u001b[0minv\u001b[0m\u001b[0;34m(\u001b[0m\u001b[0mm3\u001b[0m\u001b[0;34m)\u001b[0m\u001b[0;34m\u001b[0m\u001b[0;34m\u001b[0m\u001b[0m\n\u001b[0m\u001b[1;32m      2\u001b[0m \u001b[0;34m\u001b[0m\u001b[0m\n\u001b[1;32m      3\u001b[0m \u001b[0mprint\u001b[0m\u001b[0;34m(\u001b[0m\u001b[0;34mf'Matrix m3 inverse:\\n{m3_i}'\u001b[0m\u001b[0;34m)\u001b[0m\u001b[0;34m\u001b[0m\u001b[0;34m\u001b[0m\u001b[0m\n",
      "\u001b[0;32m<__array_function__ internals>\u001b[0m in \u001b[0;36minv\u001b[0;34m(*args, **kwargs)\u001b[0m\n",
      "\u001b[0;32m~/opt/anaconda3/lib/python3.8/site-packages/numpy/linalg/linalg.py\u001b[0m in \u001b[0;36minv\u001b[0;34m(a)\u001b[0m\n\u001b[1;32m    543\u001b[0m     \u001b[0msignature\u001b[0m \u001b[0;34m=\u001b[0m \u001b[0;34m'D->D'\u001b[0m \u001b[0;32mif\u001b[0m \u001b[0misComplexType\u001b[0m\u001b[0;34m(\u001b[0m\u001b[0mt\u001b[0m\u001b[0;34m)\u001b[0m \u001b[0;32melse\u001b[0m \u001b[0;34m'd->d'\u001b[0m\u001b[0;34m\u001b[0m\u001b[0;34m\u001b[0m\u001b[0m\n\u001b[1;32m    544\u001b[0m     \u001b[0mextobj\u001b[0m \u001b[0;34m=\u001b[0m \u001b[0mget_linalg_error_extobj\u001b[0m\u001b[0;34m(\u001b[0m\u001b[0m_raise_linalgerror_singular\u001b[0m\u001b[0;34m)\u001b[0m\u001b[0;34m\u001b[0m\u001b[0;34m\u001b[0m\u001b[0m\n\u001b[0;32m--> 545\u001b[0;31m     \u001b[0mainv\u001b[0m \u001b[0;34m=\u001b[0m \u001b[0m_umath_linalg\u001b[0m\u001b[0;34m.\u001b[0m\u001b[0minv\u001b[0m\u001b[0;34m(\u001b[0m\u001b[0ma\u001b[0m\u001b[0;34m,\u001b[0m \u001b[0msignature\u001b[0m\u001b[0;34m=\u001b[0m\u001b[0msignature\u001b[0m\u001b[0;34m,\u001b[0m \u001b[0mextobj\u001b[0m\u001b[0;34m=\u001b[0m\u001b[0mextobj\u001b[0m\u001b[0;34m)\u001b[0m\u001b[0;34m\u001b[0m\u001b[0;34m\u001b[0m\u001b[0m\n\u001b[0m\u001b[1;32m    546\u001b[0m     \u001b[0;32mreturn\u001b[0m \u001b[0mwrap\u001b[0m\u001b[0;34m(\u001b[0m\u001b[0mainv\u001b[0m\u001b[0;34m.\u001b[0m\u001b[0mastype\u001b[0m\u001b[0;34m(\u001b[0m\u001b[0mresult_t\u001b[0m\u001b[0;34m,\u001b[0m \u001b[0mcopy\u001b[0m\u001b[0;34m=\u001b[0m\u001b[0;32mFalse\u001b[0m\u001b[0;34m)\u001b[0m\u001b[0;34m)\u001b[0m\u001b[0;34m\u001b[0m\u001b[0;34m\u001b[0m\u001b[0m\n\u001b[1;32m    547\u001b[0m \u001b[0;34m\u001b[0m\u001b[0m\n",
      "\u001b[0;32m~/opt/anaconda3/lib/python3.8/site-packages/numpy/linalg/linalg.py\u001b[0m in \u001b[0;36m_raise_linalgerror_singular\u001b[0;34m(err, flag)\u001b[0m\n\u001b[1;32m     86\u001b[0m \u001b[0;34m\u001b[0m\u001b[0m\n\u001b[1;32m     87\u001b[0m \u001b[0;32mdef\u001b[0m \u001b[0m_raise_linalgerror_singular\u001b[0m\u001b[0;34m(\u001b[0m\u001b[0merr\u001b[0m\u001b[0;34m,\u001b[0m \u001b[0mflag\u001b[0m\u001b[0;34m)\u001b[0m\u001b[0;34m:\u001b[0m\u001b[0;34m\u001b[0m\u001b[0;34m\u001b[0m\u001b[0m\n\u001b[0;32m---> 88\u001b[0;31m     \u001b[0;32mraise\u001b[0m \u001b[0mLinAlgError\u001b[0m\u001b[0;34m(\u001b[0m\u001b[0;34m\"Singular matrix\"\u001b[0m\u001b[0;34m)\u001b[0m\u001b[0;34m\u001b[0m\u001b[0;34m\u001b[0m\u001b[0m\n\u001b[0m\u001b[1;32m     89\u001b[0m \u001b[0;34m\u001b[0m\u001b[0m\n\u001b[1;32m     90\u001b[0m \u001b[0;32mdef\u001b[0m \u001b[0m_raise_linalgerror_nonposdef\u001b[0m\u001b[0;34m(\u001b[0m\u001b[0merr\u001b[0m\u001b[0;34m,\u001b[0m \u001b[0mflag\u001b[0m\u001b[0;34m)\u001b[0m\u001b[0;34m:\u001b[0m\u001b[0;34m\u001b[0m\u001b[0;34m\u001b[0m\u001b[0m\n",
      "\u001b[0;31mLinAlgError\u001b[0m: Singular matrix"
     ]
    }
   ],
   "source": [
    "m3_i = np.linalg.inv(m3)\n",
    "\n",
    "print(f'Matrix m3 inverse:\\n{m3_i}')"
   ]
  },
  {
   "cell_type": "code",
   "execution_count": 40,
   "id": "d5dd4d3d-7722-4585-8389-99625be2dc69",
   "metadata": {},
   "outputs": [
    {
     "data": {
      "text/plain": [
       "0.0"
      ]
     },
     "execution_count": 40,
     "metadata": {},
     "output_type": "execute_result"
    }
   ],
   "source": [
    "np.linalg.det(m3)\n",
    "\n",
    "# Inverting does not work because m3 has a determinant of 0 (singular matrix)."
   ]
  },
  {
   "cell_type": "code",
   "execution_count": 41,
   "id": "6925bd29-14ec-4cde-8781-99db7d624647",
   "metadata": {},
   "outputs": [
    {
     "name": "stdout",
     "output_type": "stream",
     "text": [
      "Matrix m4:\n",
      "[[ 1  3  5]\n",
      " [ 4 12  8]\n",
      " [ 2  0  7]]\n"
     ]
    }
   ],
   "source": [
    "v2 = np.array([[2,0,7]])\n",
    "m4 = np.append(m1, v2, axis=0)\n",
    "\n",
    "print(f'Matrix m4:\\n{m4}')"
   ]
  },
  {
   "cell_type": "code",
   "execution_count": 48,
   "id": "7853520c-7fb8-4c6e-9a3c-2d7479028066",
   "metadata": {},
   "outputs": [
    {
     "name": "stdout",
     "output_type": "stream",
     "text": [
      "Matrix m4 inverse:\n",
      "[[-1.167  0.292  0.5  ]\n",
      " [ 0.167  0.042 -0.167]\n",
      " [ 0.333 -0.083  0.   ]]\n"
     ]
    }
   ],
   "source": [
    "m4_i = np.linalg.inv(m4)\n",
    "\n",
    "print(f'Matrix m4 inverse:\\n{np.round(m4_i,3)}')"
   ]
  },
  {
   "cell_type": "code",
   "execution_count": 49,
   "id": "8e54e8a6-d0d9-4e53-a0c7-ee155dbbbeb5",
   "metadata": {},
   "outputs": [
    {
     "data": {
      "text/plain": [
       "-72.0"
      ]
     },
     "execution_count": 49,
     "metadata": {},
     "output_type": "execute_result"
    }
   ],
   "source": [
    "np.linalg.det(m4)\n",
    "\n",
    "# Inverting works this time because m4 is not a singular matrix."
   ]
  },
  {
   "cell_type": "code",
   "execution_count": 50,
   "id": "c82041ec-4d77-4cb8-be50-da0ed0d970a9",
   "metadata": {},
   "outputs": [
    {
     "name": "stdout",
     "output_type": "stream",
     "text": [
      "Eigenvalues of m4:\n",
      "[-0.74625347 13.70776234  7.03849113]\n",
      "\n",
      "Eigenvectors of m4:\n",
      "[[-0.958  0.258  0.01 ]\n",
      " [ 0.145  0.963 -0.852]\n",
      " [ 0.247  0.077  0.523]]\n"
     ]
    }
   ],
   "source": [
    "# 5. Eigen vectors and values\n",
    "\n",
    "values, vectors = np.linalg.eig(m4)\n",
    "\n",
    "print(f'Eigenvalues of m4:\\n{values}\\n')\n",
    "print(f'Eigenvectors of m4:\\n{np.round(vectors,3)}')"
   ]
  },
  {
   "cell_type": "markdown",
   "id": "c1755e36-3407-4fa0-a504-09a0d5eada2f",
   "metadata": {},
   "source": [
    "# Section 2: Probability"
   ]
  },
  {
   "cell_type": "code",
   "execution_count": 116,
   "id": "d82e8a1e-9d7e-4332-9c6a-b3ff614f4fab",
   "metadata": {},
   "outputs": [],
   "source": [
    "from numpy.random import seed\n",
    "from numpy.random import normal\n",
    "\n",
    "seed(155)"
   ]
  },
  {
   "cell_type": "code",
   "execution_count": 117,
   "id": "6e026ff1-d9c8-411a-ad84-f7b54032c8d7",
   "metadata": {},
   "outputs": [
    {
     "name": "stdout",
     "output_type": "stream",
     "text": [
      "mean: 14.802853912665578 \n",
      "standard deviation: 1.9250733678444107\n"
     ]
    }
   ],
   "source": [
    "# 40 observations from a random normal distribution with a mean of 15 and standard deviation of 2\n",
    "\n",
    "x1 = normal(loc=15, scale=2, size=40)\n",
    "print('mean:', x1.mean(), '\\nstandard deviation:', x1.std())"
   ]
  },
  {
   "cell_type": "code",
   "execution_count": 118,
   "id": "40c34822-35cc-4a30-ad19-13618e6bcc59",
   "metadata": {},
   "outputs": [
    {
     "name": "stdout",
     "output_type": "stream",
     "text": [
      "mean: 16.78153023473677 \n",
      "standard deviation: 1.4364978771441093\n"
     ]
    }
   ],
   "source": [
    "# 40 observations from a random normal distribution with a mean of 17 and standard deviation of 1.5\n",
    "\n",
    "x2 = normal(loc=17, scale=1.5, size=40)\n",
    "print('mean:', x2.mean(), '\\nstandard deviation:', x2.std())"
   ]
  },
  {
   "cell_type": "code",
   "execution_count": 119,
   "id": "7ddc2eea-5d1f-49d7-902d-9f87ee60b780",
   "metadata": {},
   "outputs": [
    {
     "data": {
      "image/png": "[encoded data removed]",
      "text/plain": [
       "<Figure size 432x288 with 1 Axes>"
      ]
     },
     "metadata": {
      "needs_background": "light"
     },
     "output_type": "display_data"
    }
   ],
   "source": [
    "# Produce histograms of these distributions on the same plot\n",
    "\n",
    "from matplotlib import pyplot\n",
    "bins = np.linspace(5, 25, 20)\n",
    "\n",
    "pyplot.hist(x1, bins, alpha=0.5, label='x1')\n",
    "pyplot.hist(x2, bins, alpha=0.5, label='x2')\n",
    "pyplot.legend(loc='upper right')\n",
    "pyplot.show()"
   ]
  },
  {
   "cell_type": "code",
   "execution_count": 120,
   "id": "b15d22ec-8b76-4fb7-b53e-feb34ee98a22",
   "metadata": {},
   "outputs": [
    {
     "data": {
      "image/png": "[encoded data removed]",
      "text/plain": [
       "<Figure size 432x288 with 1 Axes>"
      ]
     },
     "metadata": {
      "needs_background": "light"
     },
     "output_type": "display_data"
    }
   ],
   "source": [
    "# Subtract the first set of observations from the second set to get x3. \n",
    "# Produce a histogram of the differences. What is the distribution of x3?\n",
    "\n",
    "x3 = x2-x1\n",
    "\n",
    "bins = np.linspace(-10, 10, 20)\n",
    "pyplot.hist(x3, bins, alpha=0.5, label='x3')\n",
    "pyplot.show()"
   ]
  },
  {
   "cell_type": "code",
   "execution_count": 121,
   "id": "b8e1e9c6-5114-456b-9e4e-a4e8ed2798bc",
   "metadata": {},
   "outputs": [
    {
     "data": {
      "text/plain": [
       "ShapiroResult(statistic=0.9871357083320618, pvalue=0.9226647019386292)"
      ]
     },
     "execution_count": 121,
     "metadata": {},
     "output_type": "execute_result"
    }
   ],
   "source": [
    "from scipy.stats import shapiro\n",
    "\n",
    "#perform Shapiro-Wilk test\n",
    "shapiro(x3)\n",
    "\n",
    "# x3 is also normally distributed."
   ]
  },
  {
   "cell_type": "markdown",
   "id": "8e8bee47-0eee-4646-be73-5975478c69b5",
   "metadata": {},
   "source": [
    "# Section 3: Statistics"
   ]
  },
  {
   "cell_type": "code",
   "execution_count": 122,
   "id": "96a78b24-69c9-4028-8971-2413fdcfed44",
   "metadata": {},
   "outputs": [],
   "source": [
    "# 1. Compute the mean, median, & mode for x1, x2, & x3.\n",
    "\n",
    "import statistics\n",
    "\n",
    "def get_central(i):\n",
    "    mean = statistics.mean(i)\n",
    "    median = statistics.median(i)\n",
    "    mode = statistics.mode(i)\n",
    "    print('Mean: %.3f \\nMedian: %.3f \\nMode: %.3f' %(mean, median, mode))"
   ]
  },
  {
   "cell_type": "code",
   "execution_count": 123,
   "id": "bdfead50-5574-4f9c-a6b5-629999bdf7bd",
   "metadata": {},
   "outputs": [
    {
     "name": "stdout",
     "output_type": "stream",
     "text": [
      "Mean: 14.803 \n",
      "Median: 14.896 \n",
      "Mode: 16.249\n"
     ]
    }
   ],
   "source": [
    "get_central(x1)"
   ]
  },
  {
   "cell_type": "code",
   "execution_count": 124,
   "id": "c194f211-3226-4ff3-895d-3ab348f6686f",
   "metadata": {},
   "outputs": [
    {
     "name": "stdout",
     "output_type": "stream",
     "text": [
      "Mean: 16.782 \n",
      "Median: 16.799 \n",
      "Mode: 15.853\n"
     ]
    }
   ],
   "source": [
    "get_central(x2)"
   ]
  },
  {
   "cell_type": "code",
   "execution_count": 125,
   "id": "76ccc7ed-c0df-4224-81b8-a5746049ab57",
   "metadata": {},
   "outputs": [
    {
     "name": "stdout",
     "output_type": "stream",
     "text": [
      "Mean: 1.979 \n",
      "Median: 1.993 \n",
      "Mode: -0.395\n"
     ]
    }
   ],
   "source": [
    "get_central(x3)"
   ]
  },
  {
   "cell_type": "code",
   "execution_count": 126,
   "id": "ed777cc6-fe9c-4299-8a2d-a2be1dee5937",
   "metadata": {},
   "outputs": [
    {
     "data": {
      "text/plain": [
       "array([-0.39524742,  0.79159031,  1.27152566,  3.71564404,  2.35096606,\n",
       "        4.48226017,  2.75680327,  8.62219809,  1.44998381, -1.44821174,\n",
       "       -2.31264633, -0.72464436, -1.46995433,  5.49637933, -3.42928537,\n",
       "        2.65709979,  3.07542014,  0.4404589 ,  4.01861796,  1.57882306,\n",
       "        4.94683799,  5.38759072,  1.86942849,  2.25093668, -1.24696168,\n",
       "       -0.44412062,  3.6638025 ,  2.99017703,  5.7384276 ,  1.16074087,\n",
       "        3.34491232, -3.28521394,  1.66867393,  0.75280176,  5.05738211,\n",
       "        0.54881634,  1.63297305,  2.77578221,  2.11587583,  5.29040863])"
      ]
     },
     "execution_count": 126,
     "metadata": {},
     "output_type": "execute_result"
    }
   ],
   "source": [
    "x3\n",
    "\n",
    "# Since all the numbers in x3 are different, the mode function just returns the first number."
   ]
  },
  {
   "cell_type": "code",
   "execution_count": 127,
   "id": "c1e38a39-5c38-4c61-9831-88be8a242e1e",
   "metadata": {},
   "outputs": [
    {
     "data": {
      "text/plain": [
       "2.0"
      ]
     },
     "execution_count": 127,
     "metadata": {},
     "output_type": "execute_result"
    }
   ],
   "source": [
    "statistics.mode(x3.round())\n",
    "\n",
    "# The actual mode is around 2."
   ]
  },
  {
   "cell_type": "code",
   "execution_count": 128,
   "id": "3bdcb07a-ee75-4b55-88d6-f2fa172a512a",
   "metadata": {},
   "outputs": [],
   "source": [
    "# 2. Compute the sample variance, sample standard deviation, and standard error for x1, x2, & x3.\n",
    "\n",
    "def get_dispersion(i):\n",
    "    var = statistics.variance(i)\n",
    "    sd = statistics.stdev(i)\n",
    "    se = np.std(i, ddof=1) / np.sqrt(np.size(i))\n",
    "    print('Variance: %.3f \\nStandard deviation: %.3f \\nStandard error: %.3f' %(var, sd, se))"
   ]
  },
  {
   "cell_type": "code",
   "execution_count": 129,
   "id": "e97ac376-a664-4ae4-83d5-bfeba5b075b8",
   "metadata": {},
   "outputs": [
    {
     "name": "stdout",
     "output_type": "stream",
     "text": [
      "Variance: 3.801 \n",
      "Standard deviation: 1.950 \n",
      "Standard error: 0.308\n"
     ]
    }
   ],
   "source": [
    "get_dispersion(x1)"
   ]
  },
  {
   "cell_type": "code",
   "execution_count": 130,
   "id": "410e0496-e427-4fad-99c1-0e5d5e550ede",
   "metadata": {},
   "outputs": [
    {
     "name": "stdout",
     "output_type": "stream",
     "text": [
      "Variance: 2.116 \n",
      "Standard deviation: 1.455 \n",
      "Standard error: 0.230\n"
     ]
    }
   ],
   "source": [
    "get_dispersion(x2)"
   ]
  },
  {
   "cell_type": "code",
   "execution_count": 131,
   "id": "13659ae6-969d-4423-b49e-14d68343088f",
   "metadata": {},
   "outputs": [
    {
     "name": "stdout",
     "output_type": "stream",
     "text": [
      "Variance: 6.954 \n",
      "Standard deviation: 2.637 \n",
      "Standard error: 0.417\n"
     ]
    }
   ],
   "source": [
    "get_dispersion(x3)"
   ]
  },
  {
   "cell_type": "code",
   "execution_count": 135,
   "id": "17802dff-9426-475c-8fcb-77e76129835b",
   "metadata": {},
   "outputs": [
    {
     "name": "stdout",
     "output_type": "stream",
     "text": [
      "Range of x1: 8.654 \n",
      "Range of x2: 6.868\n"
     ]
    }
   ],
   "source": [
    "# 3. For x1 and x2\n",
    "# a. Compute the range\n",
    "\n",
    "range_1 = max(x1)-min(x1)\n",
    "range_2 = max(x2)-min(x2)\n",
    "\n",
    "print('Range of x1: %.3f \\nRange of x2: %.3f' %(range_1, range_2))"
   ]
  },
  {
   "cell_type": "code",
   "execution_count": 140,
   "id": "2974659b-b22f-4dd5-a620-9a9c04e671a6",
   "metadata": {},
   "outputs": [
    {
     "name": "stdout",
     "output_type": "stream",
     "text": [
      "For x1, Q1 = 13.367 and Q2 = 14.896\n",
      "For x2, Q1 = 15.824 and Q2 = 16.799\n"
     ]
    }
   ],
   "source": [
    "# b. Find Q1 and Q2\n",
    "\n",
    "q1_1 = np.quantile(x1, 0.25)\n",
    "q2_1 = np.quantile(x1, 0.5)\n",
    "print('For x1, Q1 = %.3f and Q2 = %.3f' %(q1_1,q2_1))\n",
    "\n",
    "q1_2 = np.quantile(x2, 0.25)\n",
    "q2_2 = np.quantile(x2, 0.5)\n",
    "print('For x2, Q1 = %.3f and Q2 = %.3f' %(q1_2,q2_2))"
   ]
  },
  {
   "cell_type": "code",
   "execution_count": 141,
   "id": "22be6e0f-2801-45f6-9195-0382fd39e1b4",
   "metadata": {},
   "outputs": [
    {
     "name": "stdout",
     "output_type": "stream",
     "text": [
      "For x1, IQR = 2.598\n",
      "For x2, IQR = 1.960\n"
     ]
    }
   ],
   "source": [
    "# c. Compute the IQR\n",
    "\n",
    "iqr_1 = np.quantile(x1, 0.75) - np.quantile(x1, 0.25)\n",
    "print('For x1, IQR = %.3f' % iqr_1)\n",
    "\n",
    "iqr_2 = np.quantile(x2, 0.75) - np.quantile(x2, 0.25)\n",
    "print('For x2, IQR = %.3f' % iqr_2)"
   ]
  },
  {
   "cell_type": "code",
   "execution_count": null,
   "id": "2564c020-3ac9-4a71-8949-027f65479ee2",
   "metadata": {},
   "outputs": [],
   "source": []
  }
 ],
 "metadata": {
  "kernelspec": {
   "display_name": "Python 3",
   "language": "python",
   "name": "python3"
  },
  "language_info": {
   "codemirror_mode": {
    "name": "ipython",
    "version": 3
   },
   "file_extension": ".py",
   "mimetype": "text/x-python",
   "name": "python",
   "nbconvert_exporter": "python",
   "pygments_lexer": "ipython3",
   "version": "3.8.8"
  }
 },
 "nbformat": 4,
 "nbformat_minor": 5
}
