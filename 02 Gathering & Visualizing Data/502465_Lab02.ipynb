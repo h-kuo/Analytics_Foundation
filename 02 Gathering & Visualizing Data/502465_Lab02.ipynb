{
 "cells": [
  {
   "cell_type": "code",
   "execution_count": 82,
   "id": "687948d7-76c8-43a4-9d74-aa4326ae9545",
   "metadata": {},
   "outputs": [],
   "source": [
    "import pandas as pd\n",
    "import matplotlib.pyplot as plt\n",
    "import numpy as np\n",
    "import seaborn as sns"
   ]
  },
  {
   "cell_type": "code",
   "execution_count": 43,
   "id": "c3b10b2a-00af-4fa8-acf7-f80c0ad1f636",
   "metadata": {},
   "outputs": [],
   "source": [
    "film = pd.read_csv('film.csv', sep=\"|\", quotechar=\"\\'\")"
   ]
  },
  {
   "cell_type": "code",
   "execution_count": 44,
   "id": "74ecc359-c901-4903-9418-56b855dcaa23",
   "metadata": {},
   "outputs": [
    {
     "data": {
      "text/html": [
       "<div>\n",
       "<style scoped>\n",
       "    .dataframe tbody tr th:only-of-type {\n",
       "        vertical-align: middle;\n",
       "    }\n",
       "\n",
       "    .dataframe tbody tr th {\n",
       "        vertical-align: top;\n",
       "    }\n",
       "\n",
       "    .dataframe thead th {\n",
       "        text-align: right;\n",
       "    }\n",
       "</style>\n",
       "<table border=\"1\" class=\"dataframe\">\n",
       "  <thead>\n",
       "    <tr style=\"text-align: right;\">\n",
       "      <th></th>\n",
       "      <th>film_id</th>\n",
       "      <th>category_id</th>\n",
       "      <th>title</th>\n",
       "      <th>description</th>\n",
       "      <th>rating</th>\n",
       "      <th>rental_rate</th>\n",
       "      <th>rental_duration</th>\n",
       "      <th>special_features</th>\n",
       "      <th>fulltext</th>\n",
       "    </tr>\n",
       "  </thead>\n",
       "  <tbody>\n",
       "    <tr>\n",
       "      <th>0</th>\n",
       "      <td>1</td>\n",
       "      <td>6</td>\n",
       "      <td>Academy Dinosaur</td>\n",
       "      <td>A Epic Drama of a Feminist And a Mad Scientist...</td>\n",
       "      <td>PG</td>\n",
       "      <td>0.99</td>\n",
       "      <td>6</td>\n",
       "      <td>{\"Deleted Scenes\",\"Behind the Scenes\"}</td>\n",
       "      <td>'academi':1 'battl':15 'canadian':20 'dinosaur...</td>\n",
       "    </tr>\n",
       "    <tr>\n",
       "      <th>1</th>\n",
       "      <td>2</td>\n",
       "      <td>11</td>\n",
       "      <td>Ace Goldfinger</td>\n",
       "      <td>A Astounding Epistle of a Database Administrat...</td>\n",
       "      <td>G</td>\n",
       "      <td>4.99</td>\n",
       "      <td>3</td>\n",
       "      <td>{Trailers,\"Deleted Scenes\"}</td>\n",
       "      <td>'ace':1 'administr':9 'ancient':19 'astound':4...</td>\n",
       "    </tr>\n",
       "    <tr>\n",
       "      <th>2</th>\n",
       "      <td>3</td>\n",
       "      <td>6</td>\n",
       "      <td>Adaptation Holes</td>\n",
       "      <td>A Astounding Reflection of a Lumberjack And a ...</td>\n",
       "      <td>NC-17</td>\n",
       "      <td>2.99</td>\n",
       "      <td>7</td>\n",
       "      <td>{Trailers,\"Deleted Scenes\"}</td>\n",
       "      <td>'adapt':1 'astound':4 'baloon':19 'car':11 'fa...</td>\n",
       "    </tr>\n",
       "    <tr>\n",
       "      <th>3</th>\n",
       "      <td>4</td>\n",
       "      <td>11</td>\n",
       "      <td>Affair Prejudice</td>\n",
       "      <td>A Fanciful Documentary of a Frisbee And a Lumb...</td>\n",
       "      <td>G</td>\n",
       "      <td>2.99</td>\n",
       "      <td>5</td>\n",
       "      <td>{Commentaries,\"Behind the Scenes\"}</td>\n",
       "      <td>'affair':1 'chase':14 'documentari':5 'fanci':...</td>\n",
       "    </tr>\n",
       "    <tr>\n",
       "      <th>4</th>\n",
       "      <td>5</td>\n",
       "      <td>8</td>\n",
       "      <td>African Egg</td>\n",
       "      <td>A Fast-Paced Documentary of a Pastry Chef And ...</td>\n",
       "      <td>G</td>\n",
       "      <td>2.99</td>\n",
       "      <td>6</td>\n",
       "      <td>{\"Deleted Scenes\"}</td>\n",
       "      <td>'african':1 'chef':11 'dentist':14 'documentar...</td>\n",
       "    </tr>\n",
       "  </tbody>\n",
       "</table>\n",
       "</div>"
      ],
      "text/plain": [
       "   film_id  category_id             title  \\\n",
       "0        1            6  Academy Dinosaur   \n",
       "1        2           11    Ace Goldfinger   \n",
       "2        3            6  Adaptation Holes   \n",
       "3        4           11  Affair Prejudice   \n",
       "4        5            8       African Egg   \n",
       "\n",
       "                                         description rating  rental_rate  \\\n",
       "0  A Epic Drama of a Feminist And a Mad Scientist...     PG         0.99   \n",
       "1  A Astounding Epistle of a Database Administrat...      G         4.99   \n",
       "2  A Astounding Reflection of a Lumberjack And a ...  NC-17         2.99   \n",
       "3  A Fanciful Documentary of a Frisbee And a Lumb...      G         2.99   \n",
       "4  A Fast-Paced Documentary of a Pastry Chef And ...      G         2.99   \n",
       "\n",
       "   rental_duration                        special_features  \\\n",
       "0                6  {\"Deleted Scenes\",\"Behind the Scenes\"}   \n",
       "1                3             {Trailers,\"Deleted Scenes\"}   \n",
       "2                7             {Trailers,\"Deleted Scenes\"}   \n",
       "3                5      {Commentaries,\"Behind the Scenes\"}   \n",
       "4                6                      {\"Deleted Scenes\"}   \n",
       "\n",
       "                                            fulltext  \n",
       "0  'academi':1 'battl':15 'canadian':20 'dinosaur...  \n",
       "1  'ace':1 'administr':9 'ancient':19 'astound':4...  \n",
       "2  'adapt':1 'astound':4 'baloon':19 'car':11 'fa...  \n",
       "3  'affair':1 'chase':14 'documentari':5 'fanci':...  \n",
       "4  'african':1 'chef':11 'dentist':14 'documentar...  "
      ]
     },
     "execution_count": 44,
     "metadata": {},
     "output_type": "execute_result"
    }
   ],
   "source": [
    "film.head()"
   ]
  },
  {
   "cell_type": "code",
   "execution_count": 45,
   "id": "15f10fa1-557b-4f2a-891f-58815f0b0a21",
   "metadata": {},
   "outputs": [
    {
     "data": {
      "text/plain": [
       "film_id               int64\n",
       "category_id           int64\n",
       "title                object\n",
       "description          object\n",
       "rating               object\n",
       "rental_rate         float64\n",
       "rental_duration       int64\n",
       "special_features     object\n",
       "fulltext             object\n",
       "dtype: object"
      ]
     },
     "execution_count": 45,
     "metadata": {},
     "output_type": "execute_result"
    }
   ],
   "source": [
    "film.dtypes"
   ]
  },
  {
   "cell_type": "code",
   "execution_count": 17,
   "id": "18f74958-0fba-4ec3-9465-b1b9d4baf9e4",
   "metadata": {},
   "outputs": [],
   "source": [
    "categories = pd.read_excel('categories.xlsx')"
   ]
  },
  {
   "cell_type": "code",
   "execution_count": 36,
   "id": "48023bc9-f275-41c6-b2fe-005ca969f204",
   "metadata": {},
   "outputs": [
    {
     "data": {
      "text/html": [
       "<div>\n",
       "<style scoped>\n",
       "    .dataframe tbody tr th:only-of-type {\n",
       "        vertical-align: middle;\n",
       "    }\n",
       "\n",
       "    .dataframe tbody tr th {\n",
       "        vertical-align: top;\n",
       "    }\n",
       "\n",
       "    .dataframe thead th {\n",
       "        text-align: right;\n",
       "    }\n",
       "</style>\n",
       "<table border=\"1\" class=\"dataframe\">\n",
       "  <thead>\n",
       "    <tr style=\"text-align: right;\">\n",
       "      <th></th>\n",
       "      <th>category_id</th>\n",
       "      <th>category_name</th>\n",
       "    </tr>\n",
       "  </thead>\n",
       "  <tbody>\n",
       "    <tr>\n",
       "      <th>0</th>\n",
       "      <td>1</td>\n",
       "      <td>Action</td>\n",
       "    </tr>\n",
       "    <tr>\n",
       "      <th>1</th>\n",
       "      <td>2</td>\n",
       "      <td>Animation</td>\n",
       "    </tr>\n",
       "    <tr>\n",
       "      <th>2</th>\n",
       "      <td>3</td>\n",
       "      <td>Children</td>\n",
       "    </tr>\n",
       "    <tr>\n",
       "      <th>3</th>\n",
       "      <td>4</td>\n",
       "      <td>Classics</td>\n",
       "    </tr>\n",
       "    <tr>\n",
       "      <th>4</th>\n",
       "      <td>5</td>\n",
       "      <td>Comedy</td>\n",
       "    </tr>\n",
       "    <tr>\n",
       "      <th>5</th>\n",
       "      <td>6</td>\n",
       "      <td>Documentary</td>\n",
       "    </tr>\n",
       "    <tr>\n",
       "      <th>6</th>\n",
       "      <td>7</td>\n",
       "      <td>Drama</td>\n",
       "    </tr>\n",
       "    <tr>\n",
       "      <th>7</th>\n",
       "      <td>8</td>\n",
       "      <td>Family</td>\n",
       "    </tr>\n",
       "    <tr>\n",
       "      <th>8</th>\n",
       "      <td>9</td>\n",
       "      <td>Foreign</td>\n",
       "    </tr>\n",
       "    <tr>\n",
       "      <th>9</th>\n",
       "      <td>10</td>\n",
       "      <td>Games</td>\n",
       "    </tr>\n",
       "    <tr>\n",
       "      <th>10</th>\n",
       "      <td>11</td>\n",
       "      <td>Horror</td>\n",
       "    </tr>\n",
       "    <tr>\n",
       "      <th>11</th>\n",
       "      <td>12</td>\n",
       "      <td>Music</td>\n",
       "    </tr>\n",
       "    <tr>\n",
       "      <th>12</th>\n",
       "      <td>13</td>\n",
       "      <td>New</td>\n",
       "    </tr>\n",
       "    <tr>\n",
       "      <th>13</th>\n",
       "      <td>14</td>\n",
       "      <td>Sci-Fi</td>\n",
       "    </tr>\n",
       "    <tr>\n",
       "      <th>14</th>\n",
       "      <td>15</td>\n",
       "      <td>Sports</td>\n",
       "    </tr>\n",
       "    <tr>\n",
       "      <th>15</th>\n",
       "      <td>16</td>\n",
       "      <td>Travel</td>\n",
       "    </tr>\n",
       "  </tbody>\n",
       "</table>\n",
       "</div>"
      ],
      "text/plain": [
       "    category_id category_name\n",
       "0             1        Action\n",
       "1             2     Animation\n",
       "2             3      Children\n",
       "3             4      Classics\n",
       "4             5        Comedy\n",
       "5             6   Documentary\n",
       "6             7         Drama\n",
       "7             8        Family\n",
       "8             9       Foreign\n",
       "9            10         Games\n",
       "10           11        Horror\n",
       "11           12         Music\n",
       "12           13           New\n",
       "13           14        Sci-Fi\n",
       "14           15        Sports\n",
       "15           16        Travel"
      ]
     },
     "execution_count": 36,
     "metadata": {},
     "output_type": "execute_result"
    }
   ],
   "source": [
    "categories"
   ]
  },
  {
   "cell_type": "code",
   "execution_count": 46,
   "id": "eab7fa79-b609-4ddb-9e20-96ad08ee8a43",
   "metadata": {},
   "outputs": [],
   "source": [
    "film = film.merge(categories, left_on='category_id', right_on='category_id', sort=True)"
   ]
  },
  {
   "cell_type": "code",
   "execution_count": 48,
   "id": "c5be257d-cf4c-4564-bbf3-6afdf36ff9b2",
   "metadata": {},
   "outputs": [
    {
     "data": {
      "text/html": [
       "<div>\n",
       "<style scoped>\n",
       "    .dataframe tbody tr th:only-of-type {\n",
       "        vertical-align: middle;\n",
       "    }\n",
       "\n",
       "    .dataframe tbody tr th {\n",
       "        vertical-align: top;\n",
       "    }\n",
       "\n",
       "    .dataframe thead th {\n",
       "        text-align: right;\n",
       "    }\n",
       "</style>\n",
       "<table border=\"1\" class=\"dataframe\">\n",
       "  <thead>\n",
       "    <tr style=\"text-align: right;\">\n",
       "      <th></th>\n",
       "      <th>film_id</th>\n",
       "      <th>category_id</th>\n",
       "      <th>title</th>\n",
       "      <th>description</th>\n",
       "      <th>rating</th>\n",
       "      <th>rental_rate</th>\n",
       "      <th>rental_duration</th>\n",
       "      <th>special_features</th>\n",
       "      <th>fulltext</th>\n",
       "      <th>category_name</th>\n",
       "    </tr>\n",
       "  </thead>\n",
       "  <tbody>\n",
       "    <tr>\n",
       "      <th>0</th>\n",
       "      <td>19</td>\n",
       "      <td>1</td>\n",
       "      <td>Amadeus Holy</td>\n",
       "      <td>A Emotional Display of a Pioneer And a Technic...</td>\n",
       "      <td>PG</td>\n",
       "      <td>0.99</td>\n",
       "      <td>6</td>\n",
       "      <td>{Commentaries,\"Deleted Scenes\",\"Behind the Sce...</td>\n",
       "      <td>'amadeus':1 'baloon':20 'battl':15 'display':5...</td>\n",
       "      <td>Action</td>\n",
       "    </tr>\n",
       "    <tr>\n",
       "      <th>1</th>\n",
       "      <td>21</td>\n",
       "      <td>1</td>\n",
       "      <td>American Circus</td>\n",
       "      <td>A Insightful Drama of a Girl And a Astronaut w...</td>\n",
       "      <td>R</td>\n",
       "      <td>4.99</td>\n",
       "      <td>3</td>\n",
       "      <td>{Commentaries,\"Behind the Scenes\"}</td>\n",
       "      <td>'administr':17 'american':1 'astronaut':11 'ci...</td>\n",
       "      <td>Action</td>\n",
       "    </tr>\n",
       "    <tr>\n",
       "      <th>2</th>\n",
       "      <td>29</td>\n",
       "      <td>1</td>\n",
       "      <td>Antitrust Tomatoes</td>\n",
       "      <td>A Fateful Yarn of a Womanizer And a Feminist w...</td>\n",
       "      <td>NC-17</td>\n",
       "      <td>2.99</td>\n",
       "      <td>5</td>\n",
       "      <td>{Trailers,Commentaries,\"Deleted Scenes\"}</td>\n",
       "      <td>'administr':17 'ancient':19 'antitrust':1 'dat...</td>\n",
       "      <td>Action</td>\n",
       "    </tr>\n",
       "    <tr>\n",
       "      <th>3</th>\n",
       "      <td>38</td>\n",
       "      <td>1</td>\n",
       "      <td>Ark Ridgemont</td>\n",
       "      <td>A Beautiful Yarn of a Pioneer And a Monkey who...</td>\n",
       "      <td>NC-17</td>\n",
       "      <td>0.99</td>\n",
       "      <td>6</td>\n",
       "      <td>{Trailers,Commentaries,\"Deleted Scenes\",\"Behin...</td>\n",
       "      <td>'ark':1 'beauti':4 'desert':20 'explor':16 'mo...</td>\n",
       "      <td>Action</td>\n",
       "    </tr>\n",
       "    <tr>\n",
       "      <th>4</th>\n",
       "      <td>56</td>\n",
       "      <td>1</td>\n",
       "      <td>Barefoot Manchurian</td>\n",
       "      <td>A Intrepid Story of a Cat And a Student who mu...</td>\n",
       "      <td>G</td>\n",
       "      <td>2.99</td>\n",
       "      <td>6</td>\n",
       "      <td>{Trailers,Commentaries}</td>\n",
       "      <td>'abandon':19 'amus':20 'barefoot':1 'cat':8 'g...</td>\n",
       "      <td>Action</td>\n",
       "    </tr>\n",
       "  </tbody>\n",
       "</table>\n",
       "</div>"
      ],
      "text/plain": [
       "   film_id  category_id                title  \\\n",
       "0       19            1         Amadeus Holy   \n",
       "1       21            1      American Circus   \n",
       "2       29            1   Antitrust Tomatoes   \n",
       "3       38            1        Ark Ridgemont   \n",
       "4       56            1  Barefoot Manchurian   \n",
       "\n",
       "                                         description rating  rental_rate  \\\n",
       "0  A Emotional Display of a Pioneer And a Technic...     PG         0.99   \n",
       "1  A Insightful Drama of a Girl And a Astronaut w...      R         4.99   \n",
       "2  A Fateful Yarn of a Womanizer And a Feminist w...  NC-17         2.99   \n",
       "3  A Beautiful Yarn of a Pioneer And a Monkey who...  NC-17         0.99   \n",
       "4  A Intrepid Story of a Cat And a Student who mu...      G         2.99   \n",
       "\n",
       "   rental_duration                                   special_features  \\\n",
       "0                6  {Commentaries,\"Deleted Scenes\",\"Behind the Sce...   \n",
       "1                3                 {Commentaries,\"Behind the Scenes\"}   \n",
       "2                5           {Trailers,Commentaries,\"Deleted Scenes\"}   \n",
       "3                6  {Trailers,Commentaries,\"Deleted Scenes\",\"Behin...   \n",
       "4                6                            {Trailers,Commentaries}   \n",
       "\n",
       "                                            fulltext category_name  \n",
       "0  'amadeus':1 'baloon':20 'battl':15 'display':5...        Action  \n",
       "1  'administr':17 'american':1 'astronaut':11 'ci...        Action  \n",
       "2  'administr':17 'ancient':19 'antitrust':1 'dat...        Action  \n",
       "3  'ark':1 'beauti':4 'desert':20 'explor':16 'mo...        Action  \n",
       "4  'abandon':19 'amus':20 'barefoot':1 'cat':8 'g...        Action  "
      ]
     },
     "execution_count": 48,
     "metadata": {},
     "output_type": "execute_result"
    }
   ],
   "source": [
    "film.head()"
   ]
  },
  {
   "cell_type": "markdown",
   "id": "c022f667-61c7-4b82-8c9d-633a09642dae",
   "metadata": {},
   "source": [
    "# Plot number of films by category (bar chart)"
   ]
  },
  {
   "cell_type": "code",
   "execution_count": 58,
   "id": "3250a167-5cf6-47a5-b955-51bec886300e",
   "metadata": {},
   "outputs": [],
   "source": [
    "df_bar = film.groupby(['category_name'])['film_id'].count()"
   ]
  },
  {
   "cell_type": "code",
   "execution_count": 72,
   "id": "16bbc861-e0b8-46f5-b008-e317735db4fe",
   "metadata": {},
   "outputs": [
    {
     "data": {
      "text/plain": [
       "category_name\n",
       "Action         64\n",
       "Animation      66\n",
       "Children       60\n",
       "Classics       57\n",
       "Comedy         58\n",
       "Documentary    68\n",
       "Drama          62\n",
       "Family         69\n",
       "Foreign        73\n",
       "Games          61\n",
       "Horror         56\n",
       "Music          51\n",
       "New            63\n",
       "Sci-Fi         61\n",
       "Sports         74\n",
       "Travel         57\n",
       "Name: film_id, dtype: int64"
      ]
     },
     "execution_count": 72,
     "metadata": {},
     "output_type": "execute_result"
    }
   ],
   "source": [
    "df_bar"
   ]
  },
  {
   "cell_type": "code",
   "execution_count": 76,
   "id": "50a80c8c-e782-4060-aef3-943cd13f8e94",
   "metadata": {},
   "outputs": [
    {
     "data": {
      "text/plain": [
       "<AxesSubplot:xlabel='category_name'>"
      ]
     },
     "execution_count": 76,
     "metadata": {},
     "output_type": "execute_result"
    },
    {
     "data": {
      "image/png": "[encoded data removed]",
      "text/plain": [
       "<Figure size 432x288 with 1 Axes>"
      ]
     },
     "metadata": {
      "needs_background": "light"
     },
     "output_type": "display_data"
    }
   ],
   "source": [
    "df_bar.plot(kind='bar')"
   ]
  },
  {
   "cell_type": "markdown",
   "id": "e666442b-42e8-4344-a95c-7781f344bf5d",
   "metadata": {},
   "source": [
    "# Plot average rental duration by category with variance (Box and whiskers)"
   ]
  },
  {
   "cell_type": "code",
   "execution_count": 89,
   "id": "2072ed69-f0a3-4836-aa70-3b12304768b0",
   "metadata": {},
   "outputs": [
    {
     "data": {
      "image/png": "[encoded data removed]",
      "text/plain": [
       "<Figure size 1080x720 with 1 Axes>"
      ]
     },
     "metadata": {
      "needs_background": "light"
     },
     "output_type": "display_data"
    }
   ],
   "source": [
    "fig = plt.figure(figsize =(15, 10))\n",
    "sns.boxplot(x='category_name', y='rental_duration', data=film[['category_name','rental_duration']])\n",
    "plt.show()"
   ]
  },
  {
   "cell_type": "code",
   "execution_count": null,
   "id": "cb0436e9-eb00-478f-8ebc-535c94d0f551",
   "metadata": {},
   "outputs": [],
   "source": []
  }
 ],
 "metadata": {
  "kernelspec": {
   "display_name": "Python 3",
   "language": "python",
   "name": "python3"
  },
  "language_info": {
   "codemirror_mode": {
    "name": "ipython",
    "version": 3
   },
   "file_extension": ".py",
   "mimetype": "text/x-python",
   "name": "python",
   "nbconvert_exporter": "python",
   "pygments_lexer": "ipython3",
   "version": "3.8.8"
  }
 },
 "nbformat": 4,
 "nbformat_minor": 5
}
